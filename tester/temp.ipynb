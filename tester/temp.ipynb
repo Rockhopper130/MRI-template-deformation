{
 "cells": [
  {
   "cell_type": "code",
   "execution_count": 6,
   "id": "050b43da",
   "metadata": {},
   "outputs": [],
   "source": [
    "import numpy as np\n",
    "import matplotlib.pyplot as plt\n",
    "from matplotlib.colors import ListedColormap\n",
    "import imageio\n",
    "import os"
   ]
  },
  {
   "cell_type": "code",
   "execution_count": 8,
   "id": "898ee73e",
   "metadata": {},
   "outputs": [
    {
     "name": "stdout",
     "output_type": "stream",
     "text": [
      "Shape: (5, 256, 256, 256)\n"
     ]
    }
   ],
   "source": [
    "# Load one-hot encoded segmentation map\n",
    "path = '/shared/scratch/0/home/v_nishchay_nilabh/oasis_data/scans/OASIS_OAS1_0001_MR1/seg4_onehot.npy'\n",
    "seg = np.load(path)  # shape: (C, D, H, W)\n",
    "\n",
    "print(\"Shape:\", seg.shape)  # Should be (4, 256, 256, 256)"
   ]
  },
  {
   "cell_type": "code",
   "execution_count": 55,
   "id": "a9b03494",
   "metadata": {},
   "outputs": [
    {
     "name": "stdout",
     "output_type": "stream",
     "text": [
      "Saved GIF: ./images/segmentation_axis2_slices.gif\n"
     ]
    }
   ],
   "source": [
    "# Get label map from one-hot\n",
    "label_map = np.argmax(seg, axis=0)  # shape: (256, 256, 256)\n",
    "\n",
    "# Visualization settings\n",
    "axis = 2  # 0 = axial, 1 = coronal, 2 = sagittal\n",
    "colors = ['white', 'red', 'green', 'blue', 'yellow']\n",
    "cmap = ListedColormap(colors[:seg.shape[0]])\n",
    "\n",
    "gif_frames = []\n",
    "temp_dir = \"tmp_slices\"\n",
    "os.makedirs(temp_dir, exist_ok=True)\n",
    "\n",
    "for idx in range(label_map.shape[axis]):\n",
    "    if axis == 0:\n",
    "        slice_2d = label_map[idx, :, :]\n",
    "    elif axis == 1:\n",
    "        slice_2d = label_map[:, idx, :]\n",
    "    else:\n",
    "        slice_2d = label_map[:, :, idx]\n",
    "\n",
    "    # Save current slice as image\n",
    "    temp_img_path = os.path.join(temp_dir, f\"frame_{idx:03d}.png\")\n",
    "    plt.figure(figsize=(4, 4))\n",
    "    plt.imshow(slice_2d, cmap=cmap, interpolation='none', vmin=0, vmax=4)\n",
    "    plt.axis('off')\n",
    "    plt.tight_layout()\n",
    "    plt.savefig(temp_img_path, bbox_inches='tight', pad_inches=0)\n",
    "    plt.close()\n",
    "\n",
    "    # Read image into list\n",
    "    gif_frames.append(imageio.v2.imread(temp_img_path))\n",
    "\n",
    "# Save as GIF\n",
    "gif_path = f\"./images/segmentation_axis{axis}_slices.gif\"\n",
    "imageio.mimsave(gif_path, gif_frames, duration=0.08)\n",
    "\n",
    "print(f\"Saved GIF: {gif_path}\")"
   ]
  },
  {
   "cell_type": "code",
   "execution_count": null,
   "id": "b9be36fe",
   "metadata": {},
   "outputs": [],
   "source": []
  },
  {
   "cell_type": "code",
   "execution_count": null,
   "id": "04f281e2",
   "metadata": {},
   "outputs": [],
   "source": []
  }
 ],
 "metadata": {
  "kernelspec": {
   "display_name": "umamba (3.10.12)",
   "language": "python",
   "name": "python3"
  },
  "language_info": {
   "codemirror_mode": {
    "name": "ipython",
    "version": 3
   },
   "file_extension": ".py",
   "mimetype": "text/x-python",
   "name": "python",
   "nbconvert_exporter": "python",
   "pygments_lexer": "ipython3",
   "version": "3.10.12"
  }
 },
 "nbformat": 4,
 "nbformat_minor": 5
}
